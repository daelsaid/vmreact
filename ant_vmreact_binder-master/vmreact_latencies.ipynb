{
 "cells": [
  {
   "cell_type": "code",
   "execution_count": 26,
   "metadata": {
    "collapsed": false,
    "outputHidden": false,
    "inputHidden": false
   },
   "outputs": [],
   "source": [
    "import os\n",
    "import numpy as np\n",
    "import pandas as pd\n",
    "import csv\n",
    "from glob import glob"
   ]
  },
  {
   "cell_type": "code",
   "execution_count": 27,
   "metadata": {
    "collapsed": false,
    "outputHidden": false,
    "inputHidden": false
   },
   "outputs": [],
   "source": [
    "data_dir='/Users/lillyel-said/Desktop/vmreact/vmreact/1_rawdata/data/'\n",
    "output_dir='/Users/lillyel-said/Desktop/vmreact/vmreact/1_rawdata/data/'"
   ]
  },
  {
   "cell_type": "code",
   "execution_count": 28,
   "metadata": {
    "collapsed": false,
    "outputHidden": false,
    "inputHidden": false
   },
   "outputs": [],
   "source": [
    "trials=['trial1','trial2','trial3','trial4','trial5','listb','trial6','trial7']\n",
    "\n",
    "cols=['values.response_latency', 'expressions.trial_recall_word_latency',\n",
    "      'values.recall_firstcharlatency', 'values.recall_lastcharlatency']\n",
    "\n",
    "column_titles=['subjid','date']\n",
    "\n",
    "for trial in trials:\n",
    "    for meas in cols:\n",
    "        column_titles.append(trial+\"_\"+meas)\n",
    "        \n",
    "final_csv=[column_titles]                \n"
   ]
  },
  {
   "cell_type": "code",
   "execution_count": 30,
   "metadata": {
    "collapsed": true,
    "outputHidden": false,
    "inputHidden": false
   },
   "outputs": [
    {
     "name": "stdout",
     "output_type": "stream",
     "text": [
      "['Unnamed: 0', 'blockcode', 'blocknum', 'build', 'computer.platform', 'correct', 'date', 'expressions.listb_recall_word_latency', 'expressions.nr_nontargettrials_AY', 'expressions.nr_nontargettrials_BX', 'expressions.nr_nontargettrials_BY', 'expressions.nr_targettrials_AX', 'expressions.phase1trials', 'expressions.phase3trials', 'expressions.trial_recall_word_latency', 'group', 'list.trialsequence.currentindex', 'parameters.min_validlatency', 'parameters.responsewindow', 'parameters.target_duration', 'picture.flanker1.currentitem', 'picture.flanker2.currentitem', 'picture.flanker3.currentitem', 'picture.flanker4.currentitem', 'picture.target.currentitem', 'response', 'response.1', 'stimulusitem1', 'subject', 'time', 'trialcode', 'values.CT_ISI', 'values.TC_ISI', 'values.blockcount', 'values.correct', 'values.counttrials', 'values.cue', 'values.cue1_x', 'values.cuecondition', 'values.cuevalidity', 'values.distractor1', 'values.distractor2', 'values.flanker1_x', 'values.flankercongruence', 'values.length1', 'values.length2', 'values.length3', 'values.listbrecall_firstcharlatency', 'values.listbrecall_lastcharlatency', 'values.locationcongruence', 'values.phase', 'values.probe', 'values.recall_firstcharlatency', 'values.recall_lastcharlatency', 'values.response_latency', 'values.target_x', 'values.targetdirection', 'values.targetposition', 'values.trialcount', 'values.trialtype', 'values.valid']\n"
     ]
    }
   ],
   "source": [
    "total_columns=[]\n",
    "for data_file in glob(os.path.join(data_dir,'*raw.csv')):\n",
    "    \n",
    "    data_df=pd.read_csv(data_file,dtype=str)\n",
    "    data_df.loc[data_df['response']==' ','trialcode'] = 'trial_confirmation'\n",
    "\n",
    "    for trial in ['trial1','trial2','trial3','trial4','trial5','trial6','trial7','trial8','listb']:\n",
    "        data_df.loc[data_df['trialcode'].str.contains(trial),'trialcode']=trial\n",
    "    \n",
    "    data_df.rename(columns={'latency':'values.response_latency'},inplace=True)\n",
    "    \n",
    "    for col in data_df.columns.tolist():\n",
    "        if col not in total_columns:\n",
    "            total_columns.append(col)\n",
    "            \n",
    "print sorted(total_columns)"
   ]
  },
  {
   "cell_type": "code",
   "execution_count": 37,
   "metadata": {
    "collapsed": false,
    "outputHidden": false,
    "inputHidden": false,
    "outputExpanded": true
   },
   "outputs": [],
   "source": [
    "for data_file in glob(os.path.join(data_dir,'*raw.csv')):\n",
    "    \n",
    "    data_df=pd.read_csv(data_file,dtype=str)\n",
    "    data_df.loc[data_df['response']==' ','trialcode'] = 'trial_confirmation'\n",
    "\n",
    "    for trial in ['trial1','trial2','trial3','trial4','trial5','trial6','trial7','trial8','listb']:\n",
    "        data_df.loc[data_df['trialcode'].str.contains(trial),'trialcode']=trial\n",
    "    \n",
    "    data_df.rename(columns={'latency':'values.response_latency'},inplace=True)\n",
    "    \n",
    "    subj_list=data_df.loc[data_df['trialcode'] == 'trial8','subject'].unique()\n",
    "    if len(subj_list) > 0: \n",
    "        data_df.loc[(data_df['trialcode'] == 'trial6') & (data_df['subject'].isin(subj_list)),'trialcode']='listb'\n",
    "        data_df.loc[(data_df['trialcode'] == 'trial7') & (data_df['subject'].isin(subj_list)),'trialcode']='trial6'\n",
    "        data_df.loc[(data_df['trialcode'] == 'trial8') & (data_df['subject'].isin(subj_list)),'trialcode']='trial7'\n",
    "   \n",
    "\n",
    "    for subj,subj_df in data_df.groupby(['subject']):\n",
    "        measures=[]\n",
    "        for trial,trial_df in subj_df.groupby(['trialcode']):\n",
    "            if trial in ['trial1','trial2','trial3','trial4','trial5','listb','trial6','trial7']:\n",
    "                trial_measures=[np.nan]*4\n",
    "                for idx,meas in enumerate(cols):\n",
    "                    try:\n",
    "                        trial_measures[idx]=round(trial_df[meas].astype('float').mean(),4)\n",
    "                        print trial_measures[idx].astype('float').mean(axis=0)\n",
    "                    except:\n",
    "                        trial_measures[idx]=np.nan\n",
    "                        continue\n",
    "                               \n",
    "                measures.append([trial] + trial_measures)\n",
    "#             elif trial == 'trial_confirmation':\n",
    "#                 confirmation_mean=trial_df['values.response_latency'].astype(float).mean()\n",
    "#                 confirmation_vals=trial_df['values.response_latency'].astype(float)\n",
    "                \n",
    "        subj_line=[subj,subj_df['date'].unique().astype(str)[0]]\n",
    "        \n",
    "        for trial in ['trial1','trial2','trial3','trial4','trial5','listb','trial6','trial7']:\n",
    "            try:\n",
    "                trial_idx=[meas[0] for meas in measures].index(trial)\n",
    "                subj_line.extend(measures[int(trial_idx)][1:])\n",
    "            except:\n",
    "#                 subj_line.extend(4*np.nan)\n",
    "                continue\n",
    "#         print confirmation_mean,confirmation_vals\n",
    "        final_csv.append(subj_line)\n"
   ]
  },
  {
   "cell_type": "code",
   "execution_count": 33,
   "metadata": {
    "collapsed": false,
    "outputHidden": false,
    "inputHidden": false
   },
   "outputs": [],
   "source": [
    "with open(os.path.join(output_dir,'vmreact_latencies_summary.csv'),'wb') as f:\n",
    "    writer = csv.writer(f)\n",
    "    writer.writerows(final_csv)"
   ]
  },
  {
   "cell_type": "code",
   "execution_count": null,
   "metadata": {
    "collapsed": false,
    "outputHidden": false,
    "inputHidden": false
   },
   "outputs": [],
   "source": []
  }
 ],
 "metadata": {
  "kernel_info": {
   "name": "python2"
  },
  "kernelspec": {
   "name": "python2",
   "language": "python",
   "display_name": "Python 2"
  },
  "nteract": {
   "version": "0.9.1"
  },
  "language_info": {
   "mimetype": "text/x-python",
   "nbconvert_exporter": "python",
   "name": "python",
   "pygments_lexer": "ipython2",
   "version": "2.7.12",
   "file_extension": ".py",
   "codemirror_mode": {
    "version": 2,
    "name": "ipython"
   }
  }
 },
 "nbformat": 4,
 "nbformat_minor": 4
}
